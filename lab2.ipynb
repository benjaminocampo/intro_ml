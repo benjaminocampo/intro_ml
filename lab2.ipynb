{
 "cells": [
  {
   "cell_type": "markdown",
   "id": "e133ee78",
   "metadata": {},
   "source": [
    "# Diplomatura en Ciencias de Datos, Aprendizaje Automático y sus Aplicaciones - Introducción al aprendizaje supervisado\n",
    "# Laboratorio 2: Armado de un esquema de aprendizaje automático\n",
    "Autores: Matías Oria, Antonela Sambuceti, Pamela Pairo, Benjamín Ocampo"
   ]
  },
  {
   "cell_type": "code",
   "execution_count": null,
   "id": "d9a25743",
   "metadata": {},
   "outputs": [],
   "source": [
    "import numpy as np\n",
    "import pandas as pd\n",
    "import matplotlib.pyplot as plt\n",
    "from sklearn.model_selection import train_test_split\n",
    "from sklearn.linear_model import SGDClassifier\n",
    "from sklearn.metrics import classification_report, confusion_matrix, plot_confusion_matrix\n",
    "from sklearn.preprocessing import StandardScaler\n",
    "from sklearn.model_selection import GridSearchCV\n",
    "from sklearn.tree import DecisionTreeClassifier\n",
    "from sklearn.metrics import accuracy_score\n",
    "from sklearn.tree import plot_tree"
   ]
  },
  {
   "cell_type": "markdown",
   "id": "400853af",
   "metadata": {},
   "source": [
    "## Carga de datos y división en entrenamiento y evaluación\n",
    "\n",
    "La celda siguiente se encarga de la carga de datos (haciendo uso de pandas)."
   ]
  },
  {
   "cell_type": "code",
   "execution_count": null,
   "id": "4e1f5fe6",
   "metadata": {},
   "outputs": [],
   "source": [
    "dataset = pd.read_csv(\"./data/loan_data.csv\", comment=\"#\")\n",
    "seed = 0\n",
    "\n",
    "# División entre instancias y etiquetas\n",
    "X, y = dataset.iloc[:, 1:], dataset.TARGET\n",
    "\n",
    "scaler = StandardScaler()\n",
    "X = scaler.fit_transform(X)\n",
    "\n",
    "# división entre entrenamiento y evaluación\n",
    "X_train, X_test, y_train, y_test = train_test_split(X,\n",
    "                                                    y,\n",
    "                                                    test_size=0.2,\n",
    "                                                    random_state=seed)"
   ]
  },
  {
   "cell_type": "code",
   "execution_count": null,
   "id": "b137786f",
   "metadata": {},
   "outputs": [],
   "source": [
    "(X_train.shape, X_test.shape)"
   ]
  },
  {
   "cell_type": "code",
   "execution_count": null,
   "id": "565ae35b",
   "metadata": {},
   "outputs": [],
   "source": [
    "dataset"
   ]
  },
  {
   "cell_type": "markdown",
   "id": "e79875b1",
   "metadata": {},
   "source": [
    "\n",
    "Documentación:\n",
    "\n",
    "- https://scikit-learn.org/stable/modules/generated/sklearn.model_selection.train_test_split.html"
   ]
  },
  {
   "cell_type": "markdown",
   "id": "cdf8109a",
   "metadata": {},
   "source": [
    "## Ejercicio 1: Descripción de los Datos y la Tarea"
   ]
  },
  {
   "cell_type": "markdown",
   "id": "741fb489",
   "metadata": {},
   "source": [
    "### 1. ¿De qué se trata el conjunto de datos?"
   ]
  },
  {
   "cell_type": "markdown",
   "id": "09e47626",
   "metadata": {},
   "source": [
    "El *dataset* contiene un conjunto de datos que describen el comportamiento\n",
    "crediticio histórico de los clientes de un banco, que hayan solicitado\n",
    "préstamos recientemente."
   ]
  },
  {
   "cell_type": "markdown",
   "id": "af5b6db5",
   "metadata": {},
   "source": [
    "### 2. ¿Cuál es la variable objetivo que hay que predecir? ¿Qué significado tiene?"
   ]
  },
  {
   "cell_type": "markdown",
   "id": "73a1bab7",
   "metadata": {},
   "source": [
    "La variable objetivo `TARGET` es una variable binaria que asume\n",
    "el valor 1, si el cliente no pagó el credito solicitado, y 0 para el caso\n",
    "contrario."
   ]
  },
  {
   "cell_type": "markdown",
   "id": "9c653342",
   "metadata": {},
   "source": [
    "### 3. ¿Qué información (atributos) hay disponible para hacer la predicción?"
   ]
  },
  {
   "cell_type": "markdown",
   "id": "8824e83a",
   "metadata": {},
   "source": [
    "- LOAN: Monto del préstamo requerido.\n",
    "- MORTDUE: Saldo del crédito hipotecario existente.\n",
    "- VALUE: Valor actual de la propiedad.\n",
    "- YOJ: Años en el trabajo actual.\n",
    "- DEROG: Número de informes despectivos.\n",
    "- DELINQ: Número de créditos en estado moroso.\n",
    "- CLAGE: Linea de crédito más antigua medida en meses.\n",
    "- NINQ: Número reciente de lineas de crédito.\n",
    "- CLNO: Número de lineas de crédito.\n",
    "- DEBTINC: Cociente entre deuda e ingresos."
   ]
  },
  {
   "cell_type": "markdown",
   "id": "b665db51",
   "metadata": {},
   "source": [
    "### 4. ¿Qué atributos imagina ud. que son los más determinantes para la predicción?"
   ]
  },
  {
   "cell_type": "markdown",
   "id": "4fbc701d",
   "metadata": {},
   "source": [
    "Creemos que el monto del préstamo `LOAN`, el comportamiento del cliente,\n",
    "medido tanto en el número de informes despectivos `DEROG`como en su morosidad\n",
    "`DELINQ` pueden influir en esta predicción. También el estado actual de su\n",
    "deuda comparado con sus ingresos podría importar en esta predicción `DEBTINC`."
   ]
  },
  {
   "cell_type": "markdown",
   "id": "c1577bf9",
   "metadata": {},
   "source": [
    "### Análisis de la variable `TARGET`"
   ]
  },
  {
   "cell_type": "code",
   "execution_count": null,
   "id": "f20dbac0",
   "metadata": {},
   "outputs": [],
   "source": [
    "dataset[\"TARGET\"].value_counts()\n",
    "nof_targets_train = len(y_train)\n",
    "nof_ones_train = np.sum(y_train == 1)\n",
    "nof_zeros_train = np.sum(y_train == 0)\n",
    "\n",
    "nof_targets_test = len(y_test)\n",
    "nof_ones_test = np.sum(y_test == 1)\n",
    "nof_zeros_test = np.sum(y_test == 0)\n",
    "\n",
    "(nof_ones_train / nof_targets_train, nof_ones_test / nof_targets_test)"
   ]
  },
  {
   "cell_type": "markdown",
   "id": "6dd549ce",
   "metadata": {},
   "source": [
    "Observamos que tanto en el conjunto de entrenamiento como en el conjunto que\n",
    "usaremos para validar nuestra predicción, la variable Target se encuentra\n",
    "desbalanceada. Tan solo un 16% de los casos pertenecen a la clase 1 que\n",
    "significa que el cliente no pagó el préstamo."
   ]
  },
  {
   "cell_type": "markdown",
   "id": "3522ef4b",
   "metadata": {},
   "source": [
    "Antes de continuar creemos conveniente dejar acentadas algunas definiciones\n",
    "que nos servirán a la hora de evaluar nuestros modelos predictivos:\n",
    "\n",
    "- 0 (Clase negativa): Pagó el prestamo.\n",
    "- 1 (Clase positiva): No pagó el prestamo.\n",
    "- TP: Casos predichos que no pagarón y no pagaron efectivamente.\n",
    "- TF: Casos predichos que pagaron y pagaron efectivamente.\n",
    "- FP: Casos predichos que P (No pagó el prestamo) y pasó N (Pagó el prestamo).\n",
    "- FN: Casos predichos que N (Pagó el prestamo) y pasó P (No pagó el prestamo).\n",
    "\n",
    "- Recall: $\\frac{TP}{TP + FN}$\n",
    "- Precisión: $\\frac{TP}{TP + FP}$\n",
    "- F1-score : $2\\times(\\frac{Precision \\times Recall}{Precision + Recall})$\n",
    "\n",
    "Teniendo en cuenta lo anteriormente mencionado, preferimos aquellos modelos\n",
    "con mayor Recall que predigan de la mejor forma la clase positiva, es decir\n",
    "aquellos casos que no pagarán el préstamo. Es decir, preferimos tener menos\n",
    "falsos negativos (casos predichos como que pagarán el préstamo, pero en\n",
    "realidad no pagaron el préstamo), evitando así pérdidas para el banco, a costa\n",
    "de perder algunas ventas teniendo más falsos positivos (casos predichos como\n",
    "que no iban a pagar el préstamo y en realidad sí lo hicieron)."
   ]
  },
  {
   "cell_type": "markdown",
   "id": "52344f58",
   "metadata": {},
   "source": [
    "## Ejercicio 2: Predicción con Modelos Lineales\n",
    "\n",
    "En este ejercicio se entrenarán modelos lineales de clasificación para\n",
    "predecir la variable objetivo.\n",
    "\n",
    "Para ello, se utilizará la clase SGDClassifier de scikit-learn.\n",
    "\n",
    "Documentación:\n",
    "- https://scikit-learn.org/stable/modules/sgd.html\n",
    "- https://scikit-learn.org/stable/modules/generated/sklearn.linear_model.SGDClassifier.html\n"
   ]
  },
  {
   "cell_type": "markdown",
   "id": "9eb8225c",
   "metadata": {},
   "source": [
    "### Ejercicio 2.1: SGDClassifier con hiperparámetros por defecto\n",
    "\n",
    "En primer lugar, entrenaremos y evaluaremos el clasificador SGDClassifier\n",
    "usando los valores por omisión de scikit-learn para todos los parámetros."
   ]
  },
  {
   "cell_type": "markdown",
   "id": "4fa3218c",
   "metadata": {},
   "source": [
    "#### Entrenamiento"
   ]
  },
  {
   "cell_type": "code",
   "execution_count": null,
   "id": "6c2aacab",
   "metadata": {},
   "outputs": [],
   "source": [
    "clf = SGDClassifier(random_state=seed)\n",
    "clf.fit(X_train, y_train)\n",
    "y_pred = clf.predict(X_test)"
   ]
  },
  {
   "cell_type": "code",
   "execution_count": null,
   "id": "f15f5a8f",
   "metadata": {},
   "outputs": [],
   "source": [
    "y_pred"
   ]
  },
  {
   "cell_type": "markdown",
   "id": "2169b14e",
   "metadata": {},
   "source": [
    "#### Evaluación y matríz de confusión"
   ]
  },
  {
   "cell_type": "code",
   "execution_count": null,
   "id": "0e705545",
   "metadata": {},
   "outputs": [],
   "source": [
    "print(classification_report(y_test, y_pred))"
   ]
  },
  {
   "cell_type": "markdown",
   "id": "53bb0ae8",
   "metadata": {},
   "source": [
    "Observamos que se logran valores superiores al 0.86 es todas las\n",
    "medidas con este modelo (utilizaremos el weighted avg ya que en este caso\n",
    "quermeos darle importancia a la clase minoritaria, es decir la clase 1 que\n",
    "responde a los casos que no pagaron el préstamo)"
   ]
  },
  {
   "cell_type": "code",
   "execution_count": null,
   "id": "1ea4bd76",
   "metadata": {},
   "outputs": [],
   "source": [
    "tn, fp, fn, tp = confusion_matrix(y_test, y_pred).ravel()\n",
    "(tn, fp, fn, tp)"
   ]
  },
  {
   "cell_type": "code",
   "execution_count": null,
   "id": "eb061f5c",
   "metadata": {},
   "outputs": [],
   "source": [
    "plot_confusion_matrix(clf, X_test, y_test)"
   ]
  },
  {
   "cell_type": "code",
   "execution_count": null,
   "id": "b0034109",
   "metadata": {},
   "outputs": [],
   "source": [
    "clf.coef_.shape"
   ]
  },
  {
   "cell_type": "markdown",
   "id": "229196fd",
   "metadata": {},
   "source": [
    "Existen solo 35 casos predichos como que iban a pagar el préstamo (clase 0)\n",
    "pero en realidad no lo hicieron."
   ]
  },
  {
   "cell_type": "markdown",
   "id": "ae4455a2",
   "metadata": {},
   "source": [
    "### Ejercicio 2.2: Ajuste de Hiperparámetros\n",
    "\n",
    "A continuación seleccionaremos valores para los hiperparámetros principales\n",
    "del SGDClassifier, y usaremos grid-search y 5-fold cross-validation sobre el\n",
    "conjunto de entrenamiento para explorar muchas combinaciones posibles de\n",
    "valores.\n",
    "\n",
    "Documentación:\n",
    "- https://scikit-learn.org/stable/modules/grid_search.html\n",
    "- https://scikit-learn.org/stable/modules/generated/sklearn.model_selection.GridSearchCV.html"
   ]
  },
  {
   "cell_type": "markdown",
   "id": "003e650e",
   "metadata": {},
   "source": [
    "#### Entrenamiento"
   ]
  },
  {
   "cell_type": "code",
   "execution_count": null,
   "id": "d7adb263",
   "metadata": {},
   "outputs": [],
   "source": [
    "import warnings\n",
    "from sklearn.exceptions import UndefinedMetricWarning, ConvergenceWarning\n",
    "\n",
    "# Some parameters lead to a model which never predicts a class, so precision\n",
    "# gets division by zero when it's calculated by means of its formula. It can be\n",
    "# solved when calculating the metric but nothing can be done during grid search\n",
    "# cv abstraction.\n",
    "warnings.filterwarnings(\"ignore\", category=UndefinedMetricWarning)\n",
    "\n",
    "# Same problem but with the maximum number of iterations. In this case, the\n",
    "# algorithm stops early and we're informed with a warning.\n",
    "warnings.filterwarnings(\"ignore\", category=ConvergenceWarning)\n",
    "\n",
    "param_grid = {\n",
    "    'loss': ['hinge', 'log', 'modified_huber', 'squared_hinge', 'perceptron'],\n",
    "    'alpha': [0.00001, 0.0001, 0.001, 0.01, 0.1, 1],\n",
    "    'penalty': ['l2', 'l1'],\n",
    "    'eta0': [1e-3, 1e-4, 1e-5, 10],\n",
    "    'learning_rate': ['optimal', 'constant', 'adaptive'],\n",
    "}\n",
    "\n",
    "model = SGDClassifier(random_state=seed)\n",
    "cv = GridSearchCV(model,\n",
    "                  param_grid,\n",
    "                  scoring=[\"recall\", \"accuracy\", \"precision\", \"f1\"],\n",
    "                  cv=5,\n",
    "                  refit=False)\n",
    "cv.fit(X_train, y_train)\n",
    "\n",
    "results = cv.cv_results_\n",
    "params = results['params']"
   ]
  },
  {
   "cell_type": "code",
   "execution_count": null,
   "id": "8cefcca4",
   "metadata": {},
   "outputs": [],
   "source": [
    "results_df = pd.DataFrame(results)\n",
    "results_df.columns"
   ]
  },
  {
   "cell_type": "code",
   "execution_count": null,
   "id": "d164d8de",
   "metadata": {},
   "outputs": [],
   "source": [
    "relevant_metrics = [\n",
    "    \"mean_test_recall\", \"std_test_recall\", \"mean_test_accuracy\",\n",
    "    \"std_test_accuracy\", \"mean_test_precision\", \"std_test_precision\",\n",
    "    'mean_test_f1', \"rank_test_recall\", 'rank_test_precision',\n",
    "    'rank_test_accuracy', 'rank_test_f1'\n",
    "]\n",
    "\n",
    "params = [\"param_alpha\", \"param_loss\", \"param_penalty\", 'param_eta0']\n",
    "\n",
    "results_df = results_df[relevant_metrics + params]\n",
    "results_df"
   ]
  },
  {
   "cell_type": "code",
   "execution_count": null,
   "id": "77de8c8c",
   "metadata": {},
   "outputs": [],
   "source": [
    "highest_rank = 1\n",
    "results_df[results_df['rank_test_recall'] == highest_rank]"
   ]
  },
  {
   "cell_type": "code",
   "execution_count": null,
   "id": "7bb87b9b",
   "metadata": {},
   "outputs": [],
   "source": [
    "results_df[results_df['rank_test_precision'] == highest_rank]"
   ]
  },
  {
   "cell_type": "code",
   "execution_count": null,
   "id": "532d27e3",
   "metadata": {},
   "outputs": [],
   "source": [
    "results_df[results_df['rank_test_f1'] == highest_rank]"
   ]
  },
  {
   "cell_type": "code",
   "execution_count": null,
   "id": "364350ba",
   "metadata": {},
   "outputs": [],
   "source": [
    "results_df.loc[results_df['rank_test_recall'] == highest_rank, params]"
   ]
  },
  {
   "cell_type": "markdown",
   "id": "cf8a190f",
   "metadata": {},
   "source": [
    "#### Evaluación y matríz de confusión"
   ]
  },
  {
   "cell_type": "code",
   "execution_count": null,
   "id": "c48ecf37",
   "metadata": {},
   "outputs": [],
   "source": [
    "clf_best = SGDClassifier(random_state=seed,\n",
    "                         alpha=1,\n",
    "                         loss=\"perceptron\",\n",
    "                         eta0=10,\n",
    "                         penalty=\"l2\")\n",
    "clf_best.fit(X_train, y_train)\n",
    "y_pred_best = clf_best.predict(X_test)"
   ]
  },
  {
   "cell_type": "code",
   "execution_count": null,
   "id": "4b266ad8",
   "metadata": {},
   "outputs": [],
   "source": [
    "print(classification_report(y_test, y_pred_best))"
   ]
  },
  {
   "cell_type": "code",
   "execution_count": null,
   "id": "2d889d79",
   "metadata": {},
   "outputs": [],
   "source": [
    "tn, fp, fn, tp = confusion_matrix(y_test, y_pred).ravel()\n",
    "print(\"Anterior modelo\", (tn, fp, fn, tp))"
   ]
  },
  {
   "cell_type": "code",
   "execution_count": null,
   "id": "79e11ac9",
   "metadata": {},
   "outputs": [],
   "source": [
    "plot_confusion_matrix(clf_best, X_test, y_test)"
   ]
  },
  {
   "cell_type": "markdown",
   "id": "6863a8d5",
   "metadata": {},
   "source": [
    "Observamos que nuestros resultados son muy parecidos a los del\n",
    "modelo entrenado en el apartado anterior, sin embargo mejoran todas las\n",
    "predicciones."
   ]
  },
  {
   "cell_type": "markdown",
   "id": "06f96faa",
   "metadata": {},
   "source": [
    "## Ejercicio 3: Árboles de Decisión\n",
    "\n",
    "En este ejercicio se entrenarán árboles de decisión para predecir la variable\n",
    "objetivo.\n",
    "\n",
    "Para ello, utilizaremos la clase DecisionTreeClassifier de scikit-learn.\n",
    "\n",
    "Documentación:\n",
    "- https://scikit-learn.org/stable/modules/tree.html\n",
    "- https://scikit-learn.org/stable/modules/tree.html#tips-on-practical-use\n",
    "- https://scikit-learn.org/stable/modules/generated/sklearn.tree.DecisionTreeClassifier.html\n",
    "- https://scikit-learn.org/stable/auto_examples/tree/plot_unveil_tree_structure.html"
   ]
  },
  {
   "cell_type": "markdown",
   "id": "700aca91",
   "metadata": {},
   "source": [
    "### Ejercicio 3.1: DecisionTreeClassifier con hiperparámetros por defecto\n",
    "\n",
    "Entrenaremos y evaluaremos el clasificador DecisionTreeClassifier usando los\n",
    "valores por omisión de scikit-learn para todos los parámetros."
   ]
  },
  {
   "cell_type": "code",
   "execution_count": null,
   "id": "c1a53cbc",
   "metadata": {},
   "outputs": [],
   "source": [
    "# División entre instancias y etiquetas\n",
    "X, y = dataset.iloc[:, 1:], dataset.TARGET\n",
    "\n",
    "# división entre entrenamiento y evaluación\n",
    "X_train, X_test, y_train, y_test = train_test_split(X,\n",
    "                                                    y,\n",
    "                                                    test_size=0.2,\n",
    "                                                    random_state=seed)"
   ]
  },
  {
   "cell_type": "markdown",
   "id": "d224d407",
   "metadata": {},
   "source": [
    "#### Entrenamiento"
   ]
  },
  {
   "cell_type": "code",
   "execution_count": null,
   "id": "7746f579",
   "metadata": {},
   "outputs": [],
   "source": [
    "clf_tree = DecisionTreeClassifier(random_state=0)\n",
    "clf_tree.fit(X_train, y_train)"
   ]
  },
  {
   "cell_type": "markdown",
   "id": "0dba2e0f",
   "metadata": {},
   "source": [
    "#### Evaluación y gráfica del árbol"
   ]
  },
  {
   "cell_type": "code",
   "execution_count": null,
   "id": "c013eab3",
   "metadata": {},
   "outputs": [],
   "source": [
    "y_train_pred = clf_tree.predict(X_train)\n",
    "y_test_pred = clf_tree.predict(X_test)"
   ]
  },
  {
   "cell_type": "code",
   "execution_count": null,
   "id": "c9079b94",
   "metadata": {},
   "outputs": [],
   "source": [
    "train_acc = accuracy_score(y_train, y_train_pred)\n",
    "test_acc = accuracy_score(y_test, y_test_pred)\n",
    "print(f'Train accuracy: {train_acc:0.2}')\n",
    "print(f'Test accuracy: {test_acc:0.2}')"
   ]
  },
  {
   "cell_type": "code",
   "execution_count": null,
   "id": "3530f586",
   "metadata": {},
   "outputs": [],
   "source": [
    "print(classification_report(y_test, y_test_pred))"
   ]
  },
  {
   "cell_type": "code",
   "execution_count": null,
   "id": "8fcf522d",
   "metadata": {
    "lines_to_next_cell": 0
   },
   "outputs": [],
   "source": [
    "plt.figure(figsize=(100, 100))\n",
    "plot_tree(clf_tree, fontsize=20, feature_names=dataset.columns)\n",
    "plt.show()"
   ]
  },
  {
   "cell_type": "markdown",
   "id": "80ce2b78",
   "metadata": {},
   "source": [
    "Si bien los valores de las métricas son altos (todos los\n",
    "promedios cercanos al 0.90) el árbol tiene una profundidad muy alta, perdiendo\n",
    "interpretabilidad. A continuación probaremos con otros hiperparametros."
   ]
  },
  {
   "cell_type": "markdown",
   "id": "3765aff5",
   "metadata": {},
   "source": [
    "### Ejercicio 3.2: Ajuste de Hiperparámetros\n",
    "\n",
    "Seleccionaremos algunos valores para los hiperparámetros del\n",
    "DecisionTreeClassifier. Usaremos grid-search y 5-fold cross-validation sobre\n",
    "el conjunto de entrenamiento para explorar muchas combinaciones posibles de\n",
    "valores.\n",
    "\n",
    "Documentación:\n",
    "- https://scikit-learn.org/stable/modules/grid_search.html\n",
    "- https://scikit-learn.org/stable/modules/generated/sklearn.model_selection.GridSearchCV.html"
   ]
  },
  {
   "cell_type": "code",
   "execution_count": null,
   "id": "33419717",
   "metadata": {},
   "outputs": [],
   "source": [
    "\n",
    "param_grid = {\n",
    "    'max_depth': [6, 7, 8, 9, 10],\n",
    "    'criterion': ['gini', 'entropy'],\n",
    "    'min_samples_split': [5, 10, 20, 30, 40, 50, 100],\n",
    "    'min_samples_leaf': [5, 10, 20, 30, 40, 50]\n",
    "}\n",
    "\n",
    "model_tree = DecisionTreeClassifier(random_state=seed)\n",
    "cv = GridSearchCV(model_tree,\n",
    "                  param_grid,\n",
    "                  scoring=[\"recall\", \"accuracy\", \"precision\", \"f1\"],\n",
    "                  cv=5,\n",
    "                  refit=False)\n",
    "cv.fit(X_train, y_train)\n",
    "\n",
    "results_tree = cv.cv_results_\n",
    "params_tree = results_tree['params']"
   ]
  },
  {
   "cell_type": "code",
   "execution_count": null,
   "id": "fd975ca6",
   "metadata": {},
   "outputs": [],
   "source": [
    "results_df_tree = pd.DataFrame(results_tree)\n",
    "results_df_tree.columns"
   ]
  },
  {
   "cell_type": "code",
   "execution_count": null,
   "id": "e2d69369",
   "metadata": {},
   "outputs": [],
   "source": [
    "relevant_metrics = [\n",
    "    \"mean_test_recall\", \"std_test_recall\", \"mean_test_accuracy\",\n",
    "    \"std_test_accuracy\", \"mean_test_precision\", \"std_test_precision\",\n",
    "    'mean_test_f1', \"rank_test_recall\", 'rank_test_precision',\n",
    "    'rank_test_accuracy', 'rank_test_f1'\n",
    "]\n",
    "\n",
    "params_tree = [\n",
    "    'param_criterion', 'param_max_depth', 'param_min_samples_leaf',\n",
    "    'param_min_samples_split'\n",
    "]\n",
    "\n",
    "results_df_tree = results_df_tree[relevant_metrics + params_tree]\n",
    "results_df_tree"
   ]
  },
  {
   "cell_type": "code",
   "execution_count": null,
   "id": "4763e918",
   "metadata": {},
   "outputs": [],
   "source": [
    "highest_rank = 1\n",
    "results_df_tree[results_df_tree['rank_test_recall'] == highest_rank]"
   ]
  },
  {
   "cell_type": "code",
   "execution_count": null,
   "id": "d8453adb",
   "metadata": {},
   "outputs": [],
   "source": [
    "results_df_tree[results_df_tree['rank_test_precision'] == highest_rank]"
   ]
  },
  {
   "cell_type": "code",
   "execution_count": null,
   "id": "469a36c2",
   "metadata": {},
   "outputs": [],
   "source": [
    "results_df_tree[results_df_tree['rank_test_f1'] == highest_rank]"
   ]
  },
  {
   "cell_type": "code",
   "execution_count": null,
   "id": "2f46ec17",
   "metadata": {},
   "outputs": [],
   "source": [
    "clf_best_tree = DecisionTreeClassifier(random_state=seed,\n",
    "                                       criterion=\"gini\",\n",
    "                                       max_depth=9,\n",
    "                                       min_samples_split=20,\n",
    "                                       min_samples_leaf=10)\n",
    "clf_best_tree.fit(X_train, y_train)\n",
    "y_pred_best_tree = clf_best_tree.predict(X_test)"
   ]
  },
  {
   "cell_type": "code",
   "execution_count": null,
   "id": "aad6918c",
   "metadata": {},
   "outputs": [],
   "source": [
    "train_acc = accuracy_score(y_train, y_train_pred)\n",
    "test_acc = accuracy_score(y_test, y_pred_best_tree)\n",
    "print(f'Train accuracy: {train_acc:0.2}')\n",
    "print(f'Test accuracy: {test_acc:0.2}')"
   ]
  },
  {
   "cell_type": "code",
   "execution_count": null,
   "id": "ebc900e9",
   "metadata": {},
   "outputs": [],
   "source": [
    "print(classification_report(y_test, y_pred_best_tree))"
   ]
  },
  {
   "cell_type": "code",
   "execution_count": null,
   "id": "63f65956",
   "metadata": {},
   "outputs": [],
   "source": [
    "plt.figure(figsize=(100, 100))\n",
    "plot_tree(clf_best_tree, fontsize=20, feature_names=dataset.columns)"
   ]
  },
  {
   "cell_type": "markdown",
   "id": "098c3444",
   "metadata": {},
   "source": [
    "Observamos que las medidas de nuestro predictor continuan\n",
    "cercanas a al 0.90, mejorando notablemente la interpretabilidad del árbol, ya\n",
    "que ahora tiene una menor profundidad."
   ]
  }
 ],
 "metadata": {
  "jupytext": {
   "encoding": "# -*- coding: utf-8 -*-"
  },
  "kernelspec": {
   "display_name": "Python 3",
   "language": "python",
   "name": "python3"
  }
 },
 "nbformat": 4,
 "nbformat_minor": 5
}
