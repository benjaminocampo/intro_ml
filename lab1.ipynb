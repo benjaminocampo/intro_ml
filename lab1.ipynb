{
 "cells": [
  {
   "cell_type": "markdown",
   "id": "af363672",
   "metadata": {},
   "source": [
    "# Diplomatura en Ciencias de Datos, Aprendizaje Automático y sus Aplicaciones - Introducción al aprendizaje supervisado\n",
    "# Laboratorio 1: Regresión en Boston\n",
    "Autores: Matías Oria, Antonela Sambuceti, Pamela Pairo, Benjamín Ocampo"
   ]
  },
  {
   "cell_type": "code",
   "execution_count": null,
   "id": "8a7c0d68",
   "metadata": {
    "lines_to_next_cell": 0
   },
   "outputs": [],
   "source": [
    "import numpy as np\n",
    "import matplotlib.pyplot as plt\n",
    "import pandas as pd\n",
    "from sklearn.model_selection import train_test_split\n",
    "from sklearn.linear_model import LinearRegression\n",
    "from sklearn.preprocessing import PolynomialFeatures\n",
    "from sklearn.pipeline import make_pipeline\n",
    "from sklearn.metrics import mean_squared_error\n",
    "from sklearn.datasets import load_boston"
   ]
  },
  {
   "cell_type": "markdown",
   "id": "fb3321be",
   "metadata": {},
   "source": [
    "## Carga del conjunto de datos\n",
    "\n",
    "Cargamos el conjunto de datos y vemos su contenido."
   ]
  },
  {
   "cell_type": "code",
   "execution_count": null,
   "id": "9200290a",
   "metadata": {},
   "outputs": [],
   "source": [
    "boston = load_boston()\n",
    "boston.keys()"
   ]
  },
  {
   "cell_type": "markdown",
   "id": "62c20818",
   "metadata": {},
   "source": [
    "### Nombre de columnas y significados:"
   ]
  },
  {
   "cell_type": "code",
   "execution_count": null,
   "id": "a8666d99",
   "metadata": {},
   "outputs": [],
   "source": [
    "print(boston['DESCR'])"
   ]
  },
  {
   "cell_type": "code",
   "execution_count": null,
   "id": "0c10d0a8",
   "metadata": {},
   "outputs": [],
   "source": [
    "boston['data'].shape, boston['target'].shape"
   ]
  },
  {
   "cell_type": "markdown",
   "id": "c25c5b1f",
   "metadata": {},
   "source": [
    "## Ejercicio 1: Descripción de los Datos y la Tarea"
   ]
  },
  {
   "cell_type": "markdown",
   "id": "9a3328e8",
   "metadata": {},
   "source": [
    "### 1. ¿De qué se trata el conjunto de datos?"
   ]
  },
  {
   "cell_type": "markdown",
   "id": "8e97b5b5",
   "metadata": {
    "title": "La base de datos refiere a un conjunto de viviendas ubicadas en"
   },
   "source": [
    "Boston y una serie de atributos relacionados con su estructura edilicia,\n",
    "condiciones ambientales, cuestiones sociales/étnicas, económicas,\n",
    "accesibilidad a servicios, educación, entre otras."
   ]
  },
  {
   "cell_type": "markdown",
   "id": "fda80a9d",
   "metadata": {},
   "source": [
    "### 2. ¿Cuál es la variable objetivo que hay que predecir? ¿Qué significado tiene?"
   ]
  },
  {
   "cell_type": "markdown",
   "id": "f87efd08",
   "metadata": {
    "title": "La variable objetivo es el valor central de las viviendas"
   },
   "source": [
    "ocupadas por sus dueños expresados en miles de dólares (MEDV)."
   ]
  },
  {
   "cell_type": "markdown",
   "id": "b95925bb",
   "metadata": {},
   "source": [
    "### 3. ¿Qué información (atributos) hay disponibles para hacer la predicción?"
   ]
  },
  {
   "cell_type": "markdown",
   "id": "dc5f992f",
   "metadata": {},
   "source": [
    "- CRIM: tasa de delincuencia per cápita por ciudad.\n",
    "- ZN: proporción de terreno residencial dividido en zonas para lotes de más de\n",
    "  25,000 pies cuadrados.\n",
    "- INDUS: proporción de industrias (comercios no *retails*) en la ciudad.\n",
    "- CHAS: variable binaria que indica si la vivienda está cerca del Charles\n",
    "  River (si limita con el rio asume valor 1).\n",
    "- NOX: concentración de óxidos nítricos en la zona (partes por 10 millones).\n",
    "- RM: número promedio de habitaciones por viviendas.\n",
    "- AGE: proporción de unidades ocupadas por dueños construidas antes del 1940.\n",
    "- DIS: distancias ponderadas a cinco centros de empleo en Boston.\n",
    "- RAD: índice de accesibilidad a carreteras radiales.\n",
    "- TAX: tasa de impuesto a la propiedad por USD 10,000\n",
    "- PTRATIO: proporción alumno-maestro por ciudad.\n",
    "- B: es la proporción de personas afroamericanas por ciudad.\n",
    "- LSTAT: nivel de \"status\" poblacional de la zona, medida en cantidad de\n",
    "  personas con nivel de estudio no finalizado y con trabajos de mano de obra\n",
    "  pesada.\n",
    "- MEDV: valor medio de las viviendas ocupadas por sus propietarios en USD\n",
    "  1000."
   ]
  },
  {
   "cell_type": "markdown",
   "id": "874b707a",
   "metadata": {},
   "source": [
    "### 4. ¿Qué atributos imagina ud. que serán los más determinantes para la predicción?"
   ]
  },
  {
   "cell_type": "markdown",
   "id": "91e5c1f9",
   "metadata": {},
   "source": [
    "Los atributos más determinantes para nosotros son la cantidad de habitaciones\n",
    "(`RM`), antigüedad de la propiedad (`AGE`), proporción del terreno (`ZN`)  y\n",
    "la tasa de delincuencia (`CRIM`)."
   ]
  },
  {
   "cell_type": "markdown",
   "id": "5ff648ea",
   "metadata": {},
   "source": [
    "### 5. ¿Qué problemas observa a priori en el conjunto de datos? ¿Observa posibles sesgos, riesgos, dilemas éticos, etc? Piense que los datos pueden ser utilizados para hacer predicciones futuras."
   ]
  },
  {
   "cell_type": "markdown",
   "id": "b6af87aa",
   "metadata": {
    "title": "Creemos que algunos atributos como `B` y `CRIM` requieren ser"
   },
   "source": [
    "evaluados de manera conjunta, y podrían introducir sesgos en caso de no\n",
    "contarse con algunas de ellas. Por ejemplo, si este *Dataset* tuviese solo la\n",
    "variable `B`, podría tenderse a interpretar que cuando esta variable asume\n",
    "valores altos, la tasa de criminalidad también lo es, sin embargo al tener la\n",
    "variable `CRIM` esta teoria se puede corroborar."
   ]
  },
  {
   "cell_type": "markdown",
   "id": "053cc4ac",
   "metadata": {
    "lines_to_next_cell": 0
   },
   "source": [
    "## Ejercicio 2: Visualización de los Datos"
   ]
  },
  {
   "cell_type": "code",
   "execution_count": null,
   "id": "72ffd580",
   "metadata": {
    "lines_to_next_cell": 0
   },
   "outputs": [],
   "source": [
    "boston['data'].shape, boston['target'].shape"
   ]
  },
  {
   "cell_type": "code",
   "execution_count": null,
   "id": "49efea38",
   "metadata": {
    "lines_to_next_cell": 0
   },
   "outputs": [],
   "source": [
    "X = pd.DataFrame(data=boston['data'], columns=boston['feature_names'])\n",
    "y = pd.DataFrame(data=boston['target'], columns=[\"target\"])"
   ]
  },
  {
   "cell_type": "markdown",
   "id": "48feec4c",
   "metadata": {},
   "source": [
    "### 1. Para cada atributo de entrada, haga una gráfica que muestre su relación con la variable objetivo."
   ]
  },
  {
   "cell_type": "code",
   "execution_count": null,
   "id": "66511591",
   "metadata": {},
   "outputs": [],
   "source": [
    "feature_names = X.columns\n",
    "nof_features = len(feature_names)\n",
    "fig, axes = plt.subplots(nof_features, figsize=(15, 45))\n",
    "\n",
    "for ax, feature in zip(axes, feature_names):\n",
    "    ax.scatter(X[feature],\n",
    "               y,\n",
    "               facecolor=\"dodgerblue\",\n",
    "               edgecolor=\"k\",\n",
    "               label=\"datos\")\n",
    "    ax.set_title(feature)\n",
    "    ax.tick_params(labelsize=12)"
   ]
  },
  {
   "cell_type": "markdown",
   "id": "7d8d64ca",
   "metadata": {},
   "source": [
    "### 2. Estudie las gráficas, identificando **a ojo** los atributos que a su criterio sean los más informativos para la predicción."
   ]
  },
  {
   "cell_type": "markdown",
   "id": "0899bf36",
   "metadata": {},
   "source": [
    "- **CRIM**\n",
    "\n",
    "Se observa que los valores analizados de la variable `CRIM` se encuentran\n",
    "concentrados en zonas de bajo crimen, es decir tenemos baja frecuencia de\n",
    "viviendas ubicadas en lugares con alta delincuencia. Sin embargo, vemos que en\n",
    "los lugares donde la delincuencia es baja los precios de las residencias\n",
    "también son bajos.\n",
    "\n",
    "- **ZN**\n",
    "\n",
    "Si bien, observamos que en las viviendas de menor área construida, los precios\n",
    "son variados, no existen valores bajos para casas con mas de 15 sq.ft\n",
    "aproxidamente.\n",
    "\n",
    "- **INDUS**\n",
    "\n",
    "Se observa que las viviendas con precios más altos se encuentran en lugares\n",
    "poco industriales.\n",
    "\n",
    "- **CHAS**\n",
    "\n",
    "En primer lugar, observamos que en este *dataset* tenemos mayor concentración\n",
    "de viviendas en zonas lejanas a Charles River. Sin embargo, en el grupo de\n",
    "casas cercanos a este rio el rango de precios arranca arriba de los 15 mil.\n",
    "\n",
    "- **NOX**\n",
    "\n",
    "La mayor concentración de viviendas se encuentra a niveles bajos de oxido\n",
    "nitrógeno. No se observa una relación concluyente. Se podría realizar un\n",
    "análisis conjunto con la variable INDUS.\n",
    "\n",
    "- **RM**\n",
    "\n",
    "Observamos una fuerte relación positiva entre el número de habitaciones y el\n",
    "precio de las viviendas.\n",
    "\n",
    "- **AGE**\n",
    "\n",
    "Podemos observar que los valores más bajos de viviendas corresponden a las\n",
    "propiedades mas antiguas.\n",
    "\n",
    "- **DIS**\n",
    "\n",
    "Podemos observar que los valores más bajos de viviendas corresponden a las\n",
    "propiedades más cercanas a los conglomerados laborales.\n",
    "\n",
    "- **RAD**\n",
    "\n",
    "A simple vista no se observa un patrón concluyente.\n",
    "\n",
    "- **TAX**\n",
    "\n",
    "Se observa una concentración de casas en lugares donde el costo de los\n",
    "servicios públicos es más barato.\n",
    "\n",
    "- **PTRATIO**\n",
    "\n",
    "A simple vista no se observa un patrón concluyente.\n",
    "\n",
    "- **B**\n",
    "\n",
    "La mayoría de las casas de este *dataset* están en regiones donde el índice\n",
    "`B` es alto. También vemos que los precios son más altos en esta zona.\n",
    "\n",
    "- **LSTAT**\n",
    "\n",
    "Se observa una relación negativa entre los sectores en donde residen las\n",
    "personas con baja educación y los precios de las casas. Es decir a mayor\n",
    "porcentaje de status bajo social, los precios son mas bajos."
   ]
  },
  {
   "cell_type": "markdown",
   "id": "e2ef0566",
   "metadata": {
    "lines_to_next_cell": 0
   },
   "source": [
    "### 3. Para ud., ¿cuáles son esos atributos? Lístelos en orden de importancia."
   ]
  },
  {
   "cell_type": "markdown",
   "id": "0596fc8e",
   "metadata": {
    "lines_to_next_cell": 0
   },
   "source": [
    "#### Correlación de todas las variables con `target`."
   ]
  },
  {
   "cell_type": "code",
   "execution_count": null,
   "id": "320dca70",
   "metadata": {
    "lines_to_next_cell": 0
   },
   "outputs": [],
   "source": [
    "corr = X.join(y).corr()\n",
    "corr = corr[['target']]\n",
    "corr.loc[:, 'abs_corr'] = np.abs(corr['target'])\n",
    "corr.sort_values(by='abs_corr', ascending=False)"
   ]
  },
  {
   "cell_type": "markdown",
   "id": "004d190b",
   "metadata": {
    "lines_to_next_cell": 0
   },
   "source": [
    "El orden de importancia esta asociado a la correlación lineal de\n",
    "todos los atributos con `target`. %% [markdown]\n",
    "## Ejercicio 3: Regresión Lineal"
   ]
  },
  {
   "cell_type": "markdown",
   "id": "de66eba9",
   "metadata": {
    "lines_to_next_cell": 0
   },
   "source": [
    "#### División en Entrenamiento y Evaluación"
   ]
  },
  {
   "cell_type": "markdown",
   "id": "c37b9b7a",
   "metadata": {
    "lines_to_next_cell": 0
   },
   "source": [
    "Dividimos aleatoriamente los datos en 80% para entrenamiento y\n",
    "20% para evaluación:"
   ]
  },
  {
   "cell_type": "code",
   "execution_count": null,
   "id": "679d180c",
   "metadata": {
    "lines_to_next_cell": 0
   },
   "outputs": [],
   "source": [
    "X_train, X_test, y_train, y_test = train_test_split(X,\n",
    "                                                    y,\n",
    "                                                    train_size=0.8,\n",
    "                                                    random_state=0)\n",
    "X_train.shape, X_test.shape"
   ]
  },
  {
   "cell_type": "markdown",
   "id": "1f211882",
   "metadata": {
    "lines_to_next_cell": 0
   },
   "source": [
    "### 1. Seleccione **un solo atributo** que considere puede ser el más apropiado."
   ]
  },
  {
   "cell_type": "code",
   "execution_count": null,
   "id": "056fb461",
   "metadata": {
    "lines_to_next_cell": 0
   },
   "outputs": [],
   "source": [
    "feature_name = \"RM\"  # selecciono el atributo \"RM\"\n",
    "feature_train = X_train[[feature_name]]\n",
    "feature_test = X_test[[feature_name]]"
   ]
  },
  {
   "cell_type": "markdown",
   "id": "b18d7383",
   "metadata": {
    "lines_to_next_cell": 0
   },
   "source": [
    "### 2. Instancie una regresión lineal de **scikit-learn**, y entrénela usando sólo el atributo seleccionado."
   ]
  },
  {
   "cell_type": "code",
   "execution_count": null,
   "id": "e03aac72",
   "metadata": {
    "lines_to_next_cell": 0
   },
   "outputs": [],
   "source": [
    "reg = LinearRegression()\n",
    "reg.fit(feature_train, y_train)\n",
    "\n",
    "(reg.coef_, reg.intercept_)"
   ]
  },
  {
   "cell_type": "markdown",
   "id": "b9f5ffce",
   "metadata": {
    "lines_to_next_cell": 0
   },
   "source": [
    "### 3. Evalúe, calculando error cuadrático medio para los conjuntos de entrenamiento y evaluación."
   ]
  },
  {
   "cell_type": "code",
   "execution_count": null,
   "id": "0488627a",
   "metadata": {
    "lines_to_next_cell": 0
   },
   "outputs": [],
   "source": [
    "y_predict = reg.predict(feature_test)\n",
    "print(f'Train error: {reg.score(feature_train, y_train):f}')\n",
    "print(f'Test error: {reg.score(feature_test, y_test):f}')"
   ]
  },
  {
   "cell_type": "markdown",
   "id": "da9e1bf3",
   "metadata": {
    "lines_to_next_cell": 0
   },
   "source": [
    "### 4. Grafique el modelo resultante, junto con los puntos de entrenamiento y evaluación."
   ]
  },
  {
   "cell_type": "code",
   "execution_count": null,
   "id": "552ea42e",
   "metadata": {
    "lines_to_next_cell": 0
   },
   "outputs": [],
   "source": [
    "plt.scatter(feature_train,\n",
    "            y_train,\n",
    "            color=\"dodgerblue\",\n",
    "            edgecolor=\"k\",\n",
    "            label=\"train\")\n",
    "plt.scatter(feature_test, y_test, color=\"white\", edgecolor=\"k\", label=\"test\")\n",
    "plt.plot(feature_test, y_predict, color='red', linewidth=3)\n",
    "plt.legend()\n",
    "plt.show()"
   ]
  },
  {
   "cell_type": "markdown",
   "id": "2285a5fd",
   "metadata": {},
   "source": [
    "### 5. Interprete el resultado, haciendo algún comentario sobre las cualidades del modelo obtenido."
   ]
  },
  {
   "cell_type": "markdown",
   "id": "92622b20",
   "metadata": {
    "lines_to_next_cell": 0
   },
   "source": [
    "Al realizar una regresión lineal únicamente con el atributo\n",
    "`RM`, nuestro modelo muestra que a medida que aumenta el número de\n",
    "habitaciones, también aumenta el precio de las viviendas. Se obtuvo un valor\n",
    "más alto de error para el conjunto de testeo respecto al calculado para el\n",
    "conjunto de entrenamiento. %% [markdown]\n",
    "## Ejercicio 4: Regresión Polinomial"
   ]
  },
  {
   "cell_type": "markdown",
   "id": "2b30d87e",
   "metadata": {
    "lines_to_next_cell": 0
   },
   "source": [
    "### 1. Entrenamiento y evaluación para varios grados de polinomio"
   ]
  },
  {
   "cell_type": "code",
   "execution_count": null,
   "id": "2a00a59e",
   "metadata": {
    "lines_to_next_cell": 0
   },
   "outputs": [],
   "source": [
    "feature_name = \"RM\"\n",
    "feature_train = X_train[[feature_name]]\n",
    "feature_test = X_test[[feature_name]]\n",
    "\n",
    "train_errors = []\n",
    "test_errors = []\n",
    "degrees = np.arange(1, 12)\n",
    "for degree in degrees:\n",
    "    pf = PolynomialFeatures(degree)\n",
    "    lr = LinearRegression(fit_intercept=False)\n",
    "    model = make_pipeline(pf, lr)\n",
    "    model.fit(feature_train, y_train)\n",
    "\n",
    "    y_train_pred = model.predict(feature_train)\n",
    "    y_test_pred = model.predict(feature_test)\n",
    "\n",
    "    train_error = mean_squared_error(y_train, y_train_pred)\n",
    "    test_error = mean_squared_error(y_test, y_test_pred)\n",
    "    train_errors.append(train_error)\n",
    "    test_errors.append(test_error)\n",
    "\n",
    "    print(\n",
    "        f\"Grado {degree} \\tTrain error {train_error.round(3)} \\tTest error {test_error.round(3)}\"\n",
    "    )"
   ]
  },
  {
   "cell_type": "markdown",
   "id": "75e974de",
   "metadata": {},
   "source": [
    "### 2. Grafique las curvas de error en términos del grado del polinomio."
   ]
  },
  {
   "cell_type": "code",
   "execution_count": null,
   "id": "9be523f7",
   "metadata": {},
   "outputs": [],
   "source": [
    "plt.plot(degrees, train_errors, color=\"blue\", label=\"train\")\n",
    "plt.plot(degrees, test_errors, color=\"red\", label=\"test\")\n",
    "plt.legend()\n",
    "plt.xlabel(\"degree\")\n",
    "plt.ylabel(\"error\")\n",
    "plt.show()"
   ]
  },
  {
   "cell_type": "markdown",
   "id": "d02029b9",
   "metadata": {},
   "source": [
    "### 3. Interprete la curva, identificando el punto en que comienza a haber sobreajuste, si lo hay."
   ]
  },
  {
   "cell_type": "markdown",
   "id": "5a43a87f",
   "metadata": {},
   "source": [
    "El mejor grado del polinomio es el grado 2, en donde el nivel de\n",
    "error en test alcanza su punto mínimo. Observamos que a partir de allí\n",
    "comienza a subir ligeramente, a pesar de que el error en train cae, esto\n",
    "quiero decir que nuestro modelo está adaptandose más a nuestros datos de\n",
    "entrenamiento, y alejandose de una mejor predicción en test."
   ]
  },
  {
   "cell_type": "markdown",
   "id": "97cd5a8e",
   "metadata": {
    "lines_to_next_cell": 0
   },
   "source": [
    "### 4. Seleccione el modelo que mejor funcione, y grafique el modelo conjuntamente con los puntos."
   ]
  },
  {
   "cell_type": "code",
   "execution_count": null,
   "id": "88b86ec0",
   "metadata": {
    "lines_to_next_cell": 0
   },
   "outputs": [],
   "source": [
    "degree = 2\n",
    "model = make_pipeline(PolynomialFeatures(degree), LinearRegression())\n",
    "model.fit(feature_train, y_train)\n",
    "\n",
    "plt.scatter(feature_train,\n",
    "            y_train,\n",
    "            color=\"dodgerblue\",\n",
    "            edgecolor=\"k\",\n",
    "            label=\"train\")\n",
    "plt.scatter(feature_test, y_test, color=\"white\", edgecolor=\"k\", label=\"test\")\n",
    "\n",
    "x = np.arange(3, 9, step=0.1)\n",
    "plt.plot(x, model.predict(x.reshape(-1, 1)), color=\"red\", label=\"model\")\n",
    "plt.legend()\n",
    "plt.show()\n",
    "\n",
    "y_train_pred = model.predict(feature_train)\n",
    "y_test_pred = model.predict(feature_test)\n",
    "train_error = mean_squared_error(y_train, y_train_pred)\n",
    "test_error = mean_squared_error(y_test, y_test_pred)\n",
    "\n",
    "print(f'Train error: {train_error:f}')\n",
    "print(f'Test error: {test_error:f}')"
   ]
  },
  {
   "cell_type": "markdown",
   "id": "485dba97",
   "metadata": {},
   "source": [
    "### 5. Interprete el resultado, haciendo algún comentario sobre las cualidades del modelo obtenido."
   ]
  },
  {
   "cell_type": "markdown",
   "id": "2c4f86ba",
   "metadata": {},
   "source": [
    "Podemos observar que el modelo polinomial de grado 2 se adapta\n",
    "mejor al comportamiento de nuestros datos, en comparación al modelo de\n",
    "regresión lineal. Si bien, los errores en train y test disminuyen, el modelo\n",
    "se complejiza un poco más."
   ]
  },
  {
   "cell_type": "markdown",
   "id": "33b97f8e",
   "metadata": {},
   "source": [
    "## Ejercicio 5: Regresión con más de un Atributo"
   ]
  },
  {
   "cell_type": "markdown",
   "id": "78ae975d",
   "metadata": {},
   "source": [
    "### 1. Seleccione dos o tres atributos entre los más relevantes encontrados en el ejercicio 2."
   ]
  },
  {
   "cell_type": "code",
   "execution_count": null,
   "id": "9d3fc7dd",
   "metadata": {
    "lines_to_next_cell": 0
   },
   "outputs": [],
   "source": [
    "selected_features = [\"RM\", \"LSTAT\", \"PTRATIO\"]\n",
    "X_train_fs = X_train[selected_features]\n",
    "X_test_fs = X_test[selected_features]\n",
    "X_train_fs.shape, X_test_fs.shape"
   ]
  },
  {
   "cell_type": "markdown",
   "id": "f8e3d273",
   "metadata": {
    "lines_to_next_cell": 0
   },
   "source": [
    "### 2. Repita el ejercicio anterior, pero usando los atributos seleccionados. No hace falta graficar el modelo final."
   ]
  },
  {
   "cell_type": "code",
   "execution_count": null,
   "id": "f9eaa110",
   "metadata": {
    "lines_to_next_cell": 0
   },
   "outputs": [],
   "source": [
    "train_errors = []\n",
    "test_errors = []\n",
    "degrees = np.arange(1, 12)\n",
    "for degree in degrees:\n",
    "    pf = PolynomialFeatures(degree)\n",
    "    lr = LinearRegression(fit_intercept=False)\n",
    "    model = make_pipeline(pf, lr)\n",
    "    model.fit(X_train_fs, y_train)\n",
    "\n",
    "    y_train_pred = model.predict(X_train_fs)\n",
    "    y_test_pred = model.predict(X_test_fs)\n",
    "\n",
    "    train_error = mean_squared_error(y_train, y_train_pred)\n",
    "    test_error = mean_squared_error(y_test, y_test_pred)\n",
    "    train_errors.append(train_error)\n",
    "    test_errors.append(test_error)\n",
    "    print(\n",
    "        f\"Grado {degree} \\tTrain error {train_error.round(3)} \\tTest error {test_error.round(3)}\"\n",
    "    )"
   ]
  },
  {
   "cell_type": "code",
   "execution_count": null,
   "id": "2a8f0316",
   "metadata": {
    "lines_to_next_cell": 0
   },
   "outputs": [],
   "source": [
    "plt.plot(degrees, train_errors, color=\"blue\", label=\"train\")\n",
    "plt.plot(degrees, test_errors, color=\"red\", label=\"test\")\n",
    "plt.legend()\n",
    "plt.xlabel(\"degree\")\n",
    "plt.ylabel(\"error\")\n",
    "plt.show()\n",
    "\n",
    "degree_p3 = 2\n",
    "print('Grado: ', degree_p3)\n",
    "print(f'Train error: {train_errors[degree_p3 -1]:f}')\n",
    "print(f'Test error: {test_errors[degree_p3 -1]:f}')"
   ]
  },
  {
   "cell_type": "markdown",
   "id": "912ca97b",
   "metadata": {},
   "source": [
    "### 3. Interprete el resultado y compare con los ejercicios anteriores. ¿Se obtuvieron mejores modelos? ¿Porqué?"
   ]
  },
  {
   "cell_type": "markdown",
   "id": "ea121d33",
   "metadata": {},
   "source": [
    "Podemos observar que con la inclusión de dos features más se\n",
    "disminuyen los errores, es decir nuestro modelo predice mejor la variable\n",
    "objetivo."
   ]
  },
  {
   "cell_type": "markdown",
   "id": "4b782598",
   "metadata": {},
   "source": [
    "## Ejercicio 6: A Todo Feature"
   ]
  },
  {
   "cell_type": "code",
   "execution_count": null,
   "id": "07cc95ca",
   "metadata": {
    "lines_to_next_cell": 0
   },
   "outputs": [],
   "source": [
    "train_errors = []\n",
    "test_errors = []\n",
    "degrees = np.arange(1, 8)\n",
    "for degree in degrees:\n",
    "    pf = PolynomialFeatures(degree)\n",
    "    lr = LinearRegression(fit_intercept=False)\n",
    "    model = make_pipeline(pf, lr)\n",
    "    model.fit(X_train, y_train)\n",
    "\n",
    "    y_train_pred = model.predict(X_train)\n",
    "    y_test_pred = model.predict(X_test)\n",
    "\n",
    "    train_error = mean_squared_error(y_train, y_train_pred)\n",
    "    test_error = mean_squared_error(y_test, y_test_pred)\n",
    "    train_errors.append(train_error)\n",
    "    test_errors.append(test_error)\n",
    "    print(\n",
    "        f\"Grado {degree} \\tTrain error {train_error.round(3)} \\tTest error {test_error.round(3)}\"\n",
    "    )"
   ]
  },
  {
   "cell_type": "code",
   "execution_count": null,
   "id": "b99dea3b",
   "metadata": {
    "lines_to_next_cell": 0
   },
   "outputs": [],
   "source": [
    "plt.plot(degrees, train_errors, color=\"blue\", label=\"train\")\n",
    "plt.plot(degrees, test_errors, color=\"red\", label=\"test\")\n",
    "plt.legend()\n",
    "plt.xlabel(\"degree\")\n",
    "plt.ylabel(\"error\")\n",
    "plt.show()"
   ]
  },
  {
   "cell_type": "code",
   "execution_count": null,
   "id": "45605282",
   "metadata": {},
   "outputs": [],
   "source": [
    "degree_all = 1\n",
    "print('Grado: ', degree_all)\n",
    "print(f'Train error: {train_errors[degree_all -1]:f}')\n",
    "print(f'Test error: {test_errors[degree_all -1]:f}')"
   ]
  }
 ],
 "metadata": {
  "jupytext": {
   "encoding": "# -*- coding: utf-8 -*-"
  },
  "kernelspec": {
   "display_name": "Python 3",
   "language": "python",
   "name": "python3"
  }
 },
 "nbformat": 4,
 "nbformat_minor": 5
}
